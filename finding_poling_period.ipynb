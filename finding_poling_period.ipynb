{
  "nbformat": 4,
  "nbformat_minor": 0,
  "metadata": {
    "colab": {
      "name": "finding poling period.ipynb",
      "provenance": [],
      "collapsed_sections": [],
      "authorship_tag": "ABX9TyPxLvcpj4rIvKZnRFpAyJJL",
      "include_colab_link": true
    },
    "kernelspec": {
      "name": "python3",
      "display_name": "Python 3"
    },
    "language_info": {
      "name": "python"
    }
  },
  "cells": [
    {
      "cell_type": "markdown",
      "metadata": {
        "id": "view-in-github",
        "colab_type": "text"
      },
      "source": [
        "<a href=\"https://colab.research.google.com/github/qUantuMpsi/Summer-Project-2021/blob/main/finding_poling_period.ipynb\" target=\"_parent\"><img src=\"https://colab.research.google.com/assets/colab-badge.svg\" alt=\"Open In Colab\"/></a>"
      ]
    },
    {
      "cell_type": "code",
      "execution_count": 50,
      "metadata": {
        "id": "rvbb8jmmcWWI"
      },
      "outputs": [],
      "source": [
        "import numpy as np\n",
        "import matplotlib.pyplot as plt\n",
        "\n",
        "def transform_complex(line):\n",
        "    return line.replace(b' ', b'').replace(b'+-', b'-').replace(b'i', b'j')\n",
        "with open('type-1 ordinary wave 1540-1560.txt', 'rb') as f:\n",
        "    lines = map(transform_complex, f)\n",
        "\n",
        "with open('type-1 extraordinary wave 765-785.txt', 'rb') as f:\n",
        "    lines = map(transform_complex, f)\n",
        "\n",
        "dord = np.loadtxt('type-1 ordinary wave 1540-1560.txt', dtype=np.complex128)\n",
        "dext = np.loadtxt('type-1 extraordinary wave 765-785.txt', dtype=np.complex128)"
      ]
    },
    {
      "cell_type": "code",
      "source": [
        "print(dord[0][1].real)\n",
        "print(dext[0][1].real)"
      ],
      "metadata": {
        "id": "sc2S-FtxtCnf"
      },
      "execution_count": null,
      "outputs": []
    },
    {
      "cell_type": "markdown",
      "source": [
        "For 765-785 extraordinary wave take 1,3,5,... datas. For 1540-1560 ordinary wave take 2,4,6,8,... data values"
      ],
      "metadata": {
        "id": "4zXdmNYdy1ns"
      }
    },
    {
      "cell_type": "code",
      "source": [
        ""
      ],
      "metadata": {
        "id": "ArT6tAORzRKS"
      },
      "execution_count": null,
      "outputs": []
    }
  ]
}